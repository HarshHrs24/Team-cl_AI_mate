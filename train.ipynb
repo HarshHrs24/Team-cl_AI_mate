{
  "cells": [
    {
      "cell_type": "code",
      "execution_count": 1,
      "metadata": {
        "colab": {
          "base_uri": "https://localhost:8080/"
        },
        "id": "iEX3M9oTdQNI",
        "outputId": "310cc7de-9f85-407a-f955-ab382937d83c"
      },
      "outputs": [
        {
          "name": "stdout",
          "output_type": "stream",
          "text": [
            "Looking in indexes: https://pypi.org/simple, https://us-python.pkg.dev/colab-wheels/public/simple/\n",
            "\u001b[31mERROR: Could not find a version that satisfies the requirement calendar (from versions: none)\u001b[0m\u001b[31m\n",
            "\u001b[0m\u001b[31mERROR: No matching distribution found for calendar\u001b[0m\u001b[31m\n",
            "\u001b[0m"
          ]
        }
      ],
      "source": [
        "# !pip install prophet\n",
        "!pip install calendar"
      ]
    },
    {
      "cell_type": "code",
      "execution_count": 12,
      "metadata": {
        "id": "nm6n2_RteM9p"
      },
      "outputs": [],
      "source": [
        "from __future__ import absolute_import, division, print_function, unicode_literals\n",
        "\n",
        "import seaborn as sns\n",
        "\n",
        "import matplotlib as mpl\n",
        "import matplotlib.pyplot as plt\n",
        "import numpy as np\n",
        "import os\n",
        "import datetime as dt\n",
        "\n",
        "from prophet.serialize import model_to_json, model_from_json\n",
        "\n",
        "import pandas as pd\n",
        "\n",
        "from prophet import *\n",
        "# from \n",
        "\n",
        "import pyarrow.parquet as pq\n",
        "\n",
        "\n",
        "# from download import download\n",
        "\n",
        "mpl.rcParams['figure.figsize'] = (24, 8)\n",
        "mpl.rcParams['axes.grid'] = False\n"
      ]
    },
    {
      "cell_type": "code",
      "execution_count": 3,
      "metadata": {
        "id": "LcbM1jP3ezTI"
      },
      "outputs": [],
      "source": [
        "def drop_schema(df):\n",
        "  drop_list = ['precip','windgust', 'windspeed', 'winddir', 'sealevelpressure', 'cloudcover' ,'visibility',\n",
        "        'solarradiation', 'solarenergy', 'uvindex', 'severerisk', 'conditions',\n",
        "        'icon', 'stations', 'name','feelslike', 'dew','precipprob', 'preciptype', 'snow', 'snowdepth']\n",
        "  df = df.drop(drop_list , axis=1)\n",
        "  return df\n"
      ]
    },
    {
      "cell_type": "code",
      "execution_count": 4,
      "metadata": {
        "id": "F44Hr8ZyhSTT"
      },
      "outputs": [],
      "source": [
        "def resample_schema(df , period , type):\n",
        "  df_id = df.set_index('datetime')\n",
        "  if(type):\n",
        "    df_id_sampled = df_id.resample(period).mean()\n",
        "  else:\n",
        "    df_id_sampled = df_id.resample(period).max()\n",
        "  return df_id_sampled"
      ]
    },
    {
      "cell_type": "code",
      "execution_count": 5,
      "metadata": {
        "id": "h4T0YXSY6C06"
      },
      "outputs": [],
      "source": [
        "def split(df , time_col ,split ,lower = None , upper = None):\n",
        "\n",
        "  df['ds'] = df.index\n",
        "  # - \n",
        "  df = df.rename({'heat_index' : 'y'}, axis = 'columns')\n",
        "  split_dt = dt.datetime(split , 1 , 1 , 0 ,0)\n",
        "  split_dt -= dt.timedelta(days=1)\n",
        "\n",
        "  print(\"split at\" , split_dt)\n",
        "  if(lower == None):\n",
        "    lower = df[time_col].iloc[0]\n",
        "  if(upper == None):\n",
        "    upper = df[time_col].iloc[-1]\n",
        "\n",
        "  train = df[ (df[time_col] <= split_dt) ]\n",
        "  test = df[(df[time_col] > split_dt) ]\n",
        "\n",
        "  print(train.shape , test.shape)\n",
        "  print(train.iloc[-1][time_col] , test.iloc[0][time_col])\n",
        "  \n",
        "  return train ,test"
      ]
    },
    {
      "cell_type": "code",
      "execution_count": 6,
      "metadata": {
        "id": "ZHGnlplGmCCJ"
      },
      "outputs": [],
      "source": [
        "from sklearn.model_selection import train_test_split\n",
        "def prophet_perp(df , pred_col):\n",
        "  # - \n",
        "  df['ds'] = df.index\n",
        "  # - \n",
        "  df = df.rename({pred_col : 'y'}, axis = 'columns')\n",
        "  # - \n",
        "  train, test = train_test_split(df, test_size=0.2 , shuffle= False)\n",
        "\n",
        "  # print(train.shape , test.shape)\n",
        "  # print(train.iloc[-1][time_col] , test.iloc[0][time_col])\n",
        "  \n",
        "  return train , test\n",
        "  "
      ]
    },
    {
      "cell_type": "code",
      "execution_count": 7,
      "metadata": {
        "id": "H9zjONzkrhAw"
      },
      "outputs": [],
      "source": [
        "def prophet_train(train ):\n",
        "  m = Prophet(\n",
        "      \n",
        "  )\n",
        "  m.fit(train)\n",
        "  print(m.params)\n",
        "  return m\n"
      ]
    },
    {
      "cell_type": "code",
      "execution_count": 10,
      "metadata": {
        "id": "vYEXydbL5uE6"
      },
      "outputs": [],
      "source": [
        "def train_model(city):\n",
        "  CSV=\"content/{}.csv\".format(city)\n",
        "  df = pd.read_csv(CSV)\n",
        "  df['datetime'] =  pd.to_datetime(df['datetime'], format='%Y%m%d %H:%M:%S')\n",
        "  df = drop_schema(df) #function call\n",
        "  T=(df['temp']*9/5)+32  \n",
        "  df['temp']=T\n",
        "  R=df['humidity']\n",
        "  hi = -42.379 + 2.04901523*T + 10.14333127*R - 0.22475541*T*R - 6.83783*(10**-3)*(T*T) - 5.481717*(10**-2)*R*R + 1.22874*(10**-3)*T*T*R + 8.5282*(10**-4)*T*R*R - 1.99*(10**-6)*T*T*R*R\n",
        "  df['heat_index'] = hi\n",
        "  df = df.drop(['temp','humidity'] , axis=1)\n",
        "  df_id_d = resample_schema(df , 'D' , 1) #function call\n",
        "  df_id_d = df_id_d.loc[:'2022']\n",
        "  train, test = split(df_id_d , 'ds', 2021) #function call\n",
        "  train , test = prophet_perp(df_id_d , 'heat_index') #function call\n",
        "  m = prophet_train(train) #function call\n",
        "  path=\"content/{}_model.json\".format(city)\n",
        "  with open(path, 'w') as fout:\n",
        "    fout.write(model_to_json(m))  # Save model\n",
        "\n"
      ]
    },
    {
      "cell_type": "code",
      "execution_count": 13,
      "metadata": {
        "colab": {
          "base_uri": "https://localhost:8080/"
        },
        "id": "RYXAgaXn-1UE",
        "outputId": "b8fd52db-30a7-4614-8976-4dee32481ecf"
      },
      "outputs": [
        {
          "name": "stderr",
          "output_type": "stream",
          "text": [
            "INFO:prophet:Disabling daily seasonality. Run prophet with daily_seasonality=True to override this.\n",
            "DEBUG:cmdstanpy:input tempfile: /tmp/tmp138wjt2n/mbubqyc5.json\n"
          ]
        },
        {
          "name": "stdout",
          "output_type": "stream",
          "text": [
            "split at 2020-12-31 00:00:00\n",
            "(3288, 2) (730, 2)\n",
            "2020-12-31 00:00:00 2021-01-01 00:00:00\n"
          ]
        },
        {
          "name": "stderr",
          "output_type": "stream",
          "text": [
            "DEBUG:cmdstanpy:input tempfile: /tmp/tmp138wjt2n/szn4e0bd.json\n",
            "DEBUG:cmdstanpy:idx 0\n",
            "DEBUG:cmdstanpy:running CmdStan, num_threads: None\n",
            "DEBUG:cmdstanpy:CmdStan args: ['/usr/local/lib/python3.8/dist-packages/prophet/stan_model/prophet_model.bin', 'random', 'seed=64391', 'data', 'file=/tmp/tmp138wjt2n/mbubqyc5.json', 'init=/tmp/tmp138wjt2n/szn4e0bd.json', 'output', 'file=/tmp/tmp138wjt2n/prophet_modeloom0_dc_/prophet_model-20230224055431.csv', 'method=optimize', 'algorithm=lbfgs', 'iter=10000']\n",
            "05:54:31 - cmdstanpy - INFO - Chain [1] start processing\n",
            "INFO:cmdstanpy:Chain [1] start processing\n",
            "05:54:32 - cmdstanpy - INFO - Chain [1] done processing\n",
            "INFO:cmdstanpy:Chain [1] done processing\n"
          ]
        },
        {
          "name": "stdout",
          "output_type": "stream",
          "text": [
            "OrderedDict([('lp__', array([[9732.5]])), ('k', array([[-0.0265423]])), ('m', array([[0.81242]])), ('delta', array([[ 2.45568e-07,  2.25024e-03,  6.65607e-08, -2.49083e-01,\n",
            "        -5.72612e-08,  3.14449e-01,  4.25200e-01, -6.49225e-08,\n",
            "        -4.52262e-01, -7.20789e-02, -4.86280e-09,  4.30279e-01,\n",
            "        -5.93741e-02, -6.53938e-01, -4.96939e-08,  5.10452e-04,\n",
            "         4.83416e-01, -2.30820e-07, -1.46702e-07, -1.34206e-01,\n",
            "        -1.16882e-01, -2.56526e-08,  2.12346e-01, -2.79037e-07,\n",
            "        -1.63992e-01]])), ('sigma_obs', array([[0.0286772]])), ('beta', array([[ 5.41727e-02, -5.65168e-02, -2.38290e-02, -6.88189e-03,\n",
            "         1.36618e-02,  1.73769e-02, -4.54472e-03, -5.08630e-04,\n",
            "        -2.16087e-03,  5.09434e-03,  3.91850e-04, -5.37800e-03,\n",
            "        -3.29249e-03,  2.19113e-03,  2.91733e-03,  2.09584e-03,\n",
            "        -8.00167e-04, -9.13290e-06,  1.25992e-03,  1.42646e-03,\n",
            "         1.96576e-04,  4.97895e-04, -2.38662e-04, -4.34311e-04,\n",
            "        -1.17920e-04, -2.69671e-05]])), ('trend', array([[0.81242 , 0.812411, 0.812403, ..., 0.810273, 0.810254, 0.810236]]))])\n"
          ]
        }
      ],
      "source": [
        "train_model('Adilabad')"
      ]
    },
    {
      "cell_type": "code",
      "execution_count": 14,
      "metadata": {
        "colab": {
          "base_uri": "https://localhost:8080/"
        },
        "id": "psyievJV_S2r",
        "outputId": "e0306b1d-e71f-4210-ecd7-9708a1e3c3f8"
      },
      "outputs": [
        {
          "name": "stderr",
          "output_type": "stream",
          "text": [
            "INFO:prophet:Disabling daily seasonality. Run prophet with daily_seasonality=True to override this.\n",
            "DEBUG:cmdstanpy:input tempfile: /tmp/tmp138wjt2n/2ypsplbo.json\n"
          ]
        },
        {
          "name": "stdout",
          "output_type": "stream",
          "text": [
            "split at 2020-12-31 00:00:00\n",
            "(3288, 2) (730, 2)\n",
            "2020-12-31 00:00:00 2021-01-01 00:00:00\n"
          ]
        },
        {
          "name": "stderr",
          "output_type": "stream",
          "text": [
            "DEBUG:cmdstanpy:input tempfile: /tmp/tmp138wjt2n/7xdiulo8.json\n",
            "DEBUG:cmdstanpy:idx 0\n",
            "DEBUG:cmdstanpy:running CmdStan, num_threads: None\n",
            "DEBUG:cmdstanpy:CmdStan args: ['/usr/local/lib/python3.8/dist-packages/prophet/stan_model/prophet_model.bin', 'random', 'seed=77916', 'data', 'file=/tmp/tmp138wjt2n/2ypsplbo.json', 'init=/tmp/tmp138wjt2n/7xdiulo8.json', 'output', 'file=/tmp/tmp138wjt2n/prophet_modelib4dltbm/prophet_model-20230224055820.csv', 'method=optimize', 'algorithm=lbfgs', 'iter=10000']\n",
            "05:58:20 - cmdstanpy - INFO - Chain [1] start processing\n",
            "INFO:cmdstanpy:Chain [1] start processing\n",
            "05:58:21 - cmdstanpy - INFO - Chain [1] done processing\n",
            "INFO:cmdstanpy:Chain [1] done processing\n"
          ]
        },
        {
          "name": "stdout",
          "output_type": "stream",
          "text": [
            "OrderedDict([('lp__', array([[9968.06]])), ('k', array([[-0.2123]])), ('m', array([[0.79883]])), ('delta', array([[-2.98325e-08,  2.52228e-06,  1.75948e-01,  3.62592e-02,\n",
            "         5.60526e-05,  2.68041e-05,  2.46147e-01,  6.31147e-08,\n",
            "        -2.61345e-01,  3.91648e-07,  2.72108e-02,  1.24932e-01,\n",
            "        -5.07078e-06, -2.19503e-01, -2.04212e-06,  1.25579e-01,\n",
            "         1.78576e-07, -7.71758e-02, -7.34086e-06,  3.78103e-08,\n",
            "        -6.98349e-08,  2.77081e-02,  1.17285e-01, -6.02848e-09,\n",
            "        -1.41151e-01]])), ('sigma_obs', array([[0.0270174]])), ('beta', array([[ 3.59310e-02, -9.35679e-02, -2.07317e-02, -2.60864e-02,\n",
            "         8.77095e-03,  9.05248e-03, -4.49953e-05, -1.74021e-03,\n",
            "        -3.67965e-03,  4.54681e-03,  2.47503e-03, -2.65250e-03,\n",
            "        -1.57099e-03, -5.31507e-04,  2.72265e-03,  1.36031e-03,\n",
            "        -2.43451e-03, -6.02022e-04,  1.56566e-04,  2.84398e-03,\n",
            "         9.05907e-04,  9.51062e-04,  8.52267e-05, -4.50779e-04,\n",
            "        -2.38850e-04,  3.66940e-05]])), ('trend', array([[0.79883 , 0.798764, 0.798698, ..., 0.795076, 0.795067, 0.795057]]))])\n"
          ]
        }
      ],
      "source": [
        "train_model('Khammam')"
      ]
    },
    {
      "cell_type": "code",
      "execution_count": 15,
      "metadata": {
        "colab": {
          "base_uri": "https://localhost:8080/"
        },
        "id": "H6m4pnMmAFYB",
        "outputId": "d63f8a1d-e1e1-4149-f421-b6884a95c94e"
      },
      "outputs": [
        {
          "name": "stderr",
          "output_type": "stream",
          "text": [
            "INFO:prophet:Disabling daily seasonality. Run prophet with daily_seasonality=True to override this.\n",
            "DEBUG:cmdstanpy:input tempfile: /tmp/tmp138wjt2n/ffl5r72i.json\n"
          ]
        },
        {
          "name": "stdout",
          "output_type": "stream",
          "text": [
            "split at 2020-12-31 00:00:00\n",
            "(3288, 2) (730, 2)\n",
            "2020-12-31 00:00:00 2021-01-01 00:00:00\n"
          ]
        },
        {
          "name": "stderr",
          "output_type": "stream",
          "text": [
            "DEBUG:cmdstanpy:input tempfile: /tmp/tmp138wjt2n/wmlugygt.json\n",
            "DEBUG:cmdstanpy:idx 0\n",
            "DEBUG:cmdstanpy:running CmdStan, num_threads: None\n",
            "DEBUG:cmdstanpy:CmdStan args: ['/usr/local/lib/python3.8/dist-packages/prophet/stan_model/prophet_model.bin', 'random', 'seed=22893', 'data', 'file=/tmp/tmp138wjt2n/ffl5r72i.json', 'init=/tmp/tmp138wjt2n/wmlugygt.json', 'output', 'file=/tmp/tmp138wjt2n/prophet_modelkrtl0ifx/prophet_model-20230224055844.csv', 'method=optimize', 'algorithm=lbfgs', 'iter=10000']\n",
            "05:58:44 - cmdstanpy - INFO - Chain [1] start processing\n",
            "INFO:cmdstanpy:Chain [1] start processing\n",
            "05:58:45 - cmdstanpy - INFO - Chain [1] done processing\n",
            "INFO:cmdstanpy:Chain [1] done processing\n"
          ]
        },
        {
          "name": "stdout",
          "output_type": "stream",
          "text": [
            "OrderedDict([('lp__', array([[9909.]])), ('k', array([[-0.205309]])), ('m', array([[0.803894]])), ('delta', array([[-6.77852e-09,  1.19164e-01,  1.01593e-08, -2.15966e-05,\n",
            "        -2.60246e-08,  2.68377e-02,  2.91117e-01,  8.20344e-07,\n",
            "        -1.90744e-03, -3.38848e-02,  1.21814e-05,  5.42269e-02,\n",
            "        -1.12200e-01, -2.61807e-01, -2.12040e-01, -1.20554e-07,\n",
            "         3.38397e-01, -2.67698e-08,  9.53816e-08, -1.82968e-02,\n",
            "        -2.78409e-03,  9.34396e-08,  4.16976e-02, -3.33510e-08,\n",
            "        -8.82747e-02]])), ('sigma_obs', array([[0.0275171]])), ('beta', array([[ 4.43064e-02, -7.58033e-02, -2.23858e-02, -1.80084e-02,\n",
            "         1.23817e-02,  1.68612e-02, -3.42091e-03, -6.20438e-04,\n",
            "        -3.08142e-03,  5.14604e-03,  1.84379e-03, -4.29007e-03,\n",
            "        -2.90241e-03,  1.56032e-03,  2.90899e-03,  3.03568e-03,\n",
            "        -1.05230e-03, -4.96020e-04,  9.02163e-04,  2.08287e-03,\n",
            "        -1.92414e-04,  6.80748e-04, -3.81442e-04, -3.27352e-04,\n",
            "        -1.94456e-04,  1.09045e-05]])), ('trend', array([[0.803894, 0.80383 , 0.803766, ..., 0.786474, 0.786454, 0.786434]]))])\n"
          ]
        }
      ],
      "source": [
        "train_model('Karimnagar')"
      ]
    },
    {
      "cell_type": "code",
      "execution_count": 16,
      "metadata": {
        "colab": {
          "base_uri": "https://localhost:8080/"
        },
        "id": "oE8uC3E8AKkk",
        "outputId": "f1a3307c-43b9-4c92-f265-687586010bec"
      },
      "outputs": [
        {
          "name": "stderr",
          "output_type": "stream",
          "text": [
            "INFO:prophet:Disabling daily seasonality. Run prophet with daily_seasonality=True to override this.\n",
            "DEBUG:cmdstanpy:input tempfile: /tmp/tmp138wjt2n/unzy9ylo.json\n"
          ]
        },
        {
          "name": "stdout",
          "output_type": "stream",
          "text": [
            "split at 2020-12-31 00:00:00\n",
            "(3288, 2) (730, 2)\n",
            "2020-12-31 00:00:00 2021-01-01 00:00:00\n"
          ]
        },
        {
          "name": "stderr",
          "output_type": "stream",
          "text": [
            "DEBUG:cmdstanpy:input tempfile: /tmp/tmp138wjt2n/m4h_cmmd.json\n",
            "DEBUG:cmdstanpy:idx 0\n",
            "DEBUG:cmdstanpy:running CmdStan, num_threads: None\n",
            "DEBUG:cmdstanpy:CmdStan args: ['/usr/local/lib/python3.8/dist-packages/prophet/stan_model/prophet_model.bin', 'random', 'seed=18004', 'data', 'file=/tmp/tmp138wjt2n/unzy9ylo.json', 'init=/tmp/tmp138wjt2n/m4h_cmmd.json', 'output', 'file=/tmp/tmp138wjt2n/prophet_modelgts_zzqe/prophet_model-20230224055915.csv', 'method=optimize', 'algorithm=lbfgs', 'iter=10000']\n",
            "05:59:15 - cmdstanpy - INFO - Chain [1] start processing\n",
            "INFO:cmdstanpy:Chain [1] start processing\n",
            "05:59:16 - cmdstanpy - INFO - Chain [1] done processing\n",
            "INFO:cmdstanpy:Chain [1] done processing\n"
          ]
        },
        {
          "name": "stdout",
          "output_type": "stream",
          "text": [
            "OrderedDict([('lp__', array([[9822.15]])), ('k', array([[-0.0602586]])), ('m', array([[0.815226]])), ('delta', array([[ 1.84686e-07,  2.12610e-02, -2.51324e-08, -2.95916e-01,\n",
            "        -1.23852e-07,  4.02082e-01,  4.46191e-01,  6.88323e-08,\n",
            "        -5.22468e-01, -2.83602e-07,  2.83443e-02,  3.72966e-01,\n",
            "        -1.81948e-01, -5.21198e-01,  7.39771e-08,  8.52890e-02,\n",
            "         2.79644e-01, -2.56923e-03,  4.15168e-08, -4.95506e-08,\n",
            "        -3.09667e-06,  9.45402e-08,  7.82808e-10, -2.72828e-02,\n",
            "        -8.93850e-02]])), ('sigma_obs', array([[0.0279744]])), ('beta', array([[ 5.44556e-02, -4.41746e-02, -2.30622e-02, -7.90682e-03,\n",
            "         9.32815e-03,  1.64622e-02, -3.46257e-03, -2.20590e-03,\n",
            "        -3.13673e-03,  5.36019e-03,  1.08036e-03, -4.45324e-03,\n",
            "        -4.02282e-03,  6.18986e-04,  2.71632e-03,  2.87787e-03,\n",
            "        -9.59841e-04, -3.15567e-04,  2.74584e-04,  2.09863e-03,\n",
            "         1.20979e-04,  4.54306e-04, -3.61436e-04, -4.35014e-04,\n",
            "        -6.38273e-05, -3.93513e-04]])), ('trend', array([[0.815226, 0.815208, 0.815189, ..., 0.813707, 0.813687, 0.813666]]))])\n"
          ]
        }
      ],
      "source": [
        "train_model('Nizamabad')"
      ]
    },
    {
      "cell_type": "code",
      "execution_count": 17,
      "metadata": {
        "colab": {
          "base_uri": "https://localhost:8080/"
        },
        "id": "sUfAuKoSAT2l",
        "outputId": "5759654b-c12a-4e85-ee7d-12b101cd8c3d"
      },
      "outputs": [
        {
          "name": "stderr",
          "output_type": "stream",
          "text": [
            "INFO:prophet:Disabling daily seasonality. Run prophet with daily_seasonality=True to override this.\n",
            "DEBUG:cmdstanpy:input tempfile: /tmp/tmp138wjt2n/aapmfazp.json\n"
          ]
        },
        {
          "name": "stdout",
          "output_type": "stream",
          "text": [
            "split at 2020-12-31 00:00:00\n",
            "(3288, 2) (730, 2)\n",
            "2020-12-31 00:00:00 2021-01-01 00:00:00\n"
          ]
        },
        {
          "name": "stderr",
          "output_type": "stream",
          "text": [
            "DEBUG:cmdstanpy:input tempfile: /tmp/tmp138wjt2n/x20hj6cl.json\n",
            "DEBUG:cmdstanpy:idx 0\n",
            "DEBUG:cmdstanpy:running CmdStan, num_threads: None\n",
            "DEBUG:cmdstanpy:CmdStan args: ['/usr/local/lib/python3.8/dist-packages/prophet/stan_model/prophet_model.bin', 'random', 'seed=33197', 'data', 'file=/tmp/tmp138wjt2n/aapmfazp.json', 'init=/tmp/tmp138wjt2n/x20hj6cl.json', 'output', 'file=/tmp/tmp138wjt2n/prophet_modelqnb3_ym6/prophet_model-20230224055942.csv', 'method=optimize', 'algorithm=lbfgs', 'iter=10000']\n",
            "05:59:42 - cmdstanpy - INFO - Chain [1] start processing\n",
            "INFO:cmdstanpy:Chain [1] start processing\n",
            "05:59:44 - cmdstanpy - INFO - Chain [1] done processing\n",
            "INFO:cmdstanpy:Chain [1] done processing\n"
          ]
        },
        {
          "name": "stdout",
          "output_type": "stream",
          "text": [
            "OrderedDict([('lp__', array([[10016.2]])), ('k', array([[-0.113979]])), ('m', array([[0.800257]])), ('delta', array([[-5.90116e-09,  1.47060e-07, -5.46052e-09, -9.41858e-02,\n",
            "        -3.57251e-08, -4.99190e-08,  7.62133e-01,  2.00517e-08,\n",
            "        -5.73149e-01, -2.64312e-06,  1.12231e-02,  5.29601e-01,\n",
            "        -5.31168e-01, -3.19518e-01, -3.81149e-07,  3.45187e-01,\n",
            "         4.45453e-04, -5.22532e-02,  4.81825e-08,  8.67422e-02,\n",
            "         6.69193e-07,  2.51909e-07,  4.94199e-02, -7.01022e-08,\n",
            "        -2.10542e-01]])), ('sigma_obs', array([[0.0262888]])), ('beta', array([[ 4.32848e-02, -6.77897e-02, -2.03462e-02, -1.36785e-02,\n",
            "         8.20519e-03,  1.40157e-02, -1.88593e-03, -8.05715e-04,\n",
            "        -3.23110e-03,  5.20423e-03,  2.29198e-03, -2.88900e-03,\n",
            "        -2.30125e-03,  8.81873e-04,  2.64268e-03,  3.29183e-03,\n",
            "        -1.25071e-03, -6.28613e-04, -6.86941e-05,  2.02509e-03,\n",
            "         3.73512e-04,  4.93044e-04, -4.08949e-04, -5.14084e-04,\n",
            "        -2.90180e-04, -6.33239e-07]])), ('trend', array([[0.800257, 0.800221, 0.800186, ..., 0.782818, 0.782784, 0.78275 ]]))])\n"
          ]
        }
      ],
      "source": [
        "train_model('Warangal')"
      ]
    }
  ],
  "metadata": {
    "accelerator": "GPU",
    "colab": {
      "provenance": []
    },
    "gpuClass": "standard",
    "kernelspec": {
      "display_name": "Python 3",
      "language": "python",
      "name": "python3"
    },
    "language_info": {
      "name": "python",
      "version": "3.10.2"
    },
    "vscode": {
      "interpreter": {
        "hash": "949777d72b0d2535278d3dc13498b2535136f6dfe0678499012e853ee9abcab1"
      }
    }
  },
  "nbformat": 4,
  "nbformat_minor": 0
}
